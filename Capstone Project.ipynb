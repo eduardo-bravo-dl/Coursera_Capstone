{
 "cells": [
  {
   "cell_type": "markdown",
   "metadata": {
    "collapsed": true
   },
   "source": [
    "# Capstone Project "
   ]
  },
  {
   "cell_type": "markdown",
   "metadata": {},
   "source": [
    "# Introduction:"
   ]
  },
  {
   "cell_type": "markdown",
   "metadata": {},
   "source": [
    "In this project, we will try to find the best possible location (a neighborhood) for a restaurant in the city of North York, in Ontario, Canada.\n",
    "\n",
    "The way we will find the best possible neighborhood to open a new restaurant in is by searching the neighborhood with the minimum number of alredy existing restaurants, we will know how many rastaurants are currently open by searching in the Foursquare API.\n",
    "\n",
    "This information could be very useful to any person who is looking to open a new restaurant in the North York Borough. This notebook could be useful to see which neighborhood in North York is the one with the greatest number of currently open restaurants and consider it as another possible location due to it's characteristics."
   ]
  },
  {
   "cell_type": "markdown",
   "metadata": {},
   "source": [
    "# Data description"
   ]
  },
  {
   "cell_type": "markdown",
   "metadata": {},
   "source": [
    "For convinience reasons the data we will be using is a part of the one used in the last lab of the course. That data consisted on a dataframe with five columns, which were:\n",
    "\n",
    "**Postal code**: Postal code of the area.\n",
    "\n",
    "**Borough**: Borough to which the neighborhood(s) belongs.\n",
    "\n",
    "**Neighborhood**: Name of the neighborhood(s), it can be more than one because the dataset was originally created based on the postal code.\n",
    "\n",
    "**Latitude**: geographical latitude of the neighborhood.\n",
    "\n",
    "**Longitude**:geographical longitude of the neighborhood.\n",
    "\n",
    "I will add the .csv file to the repository so you cand find it eassier."
   ]
  },
  {
   "cell_type": "markdown",
   "metadata": {},
   "source": [
    "# Methodology "
   ]
  },
  {
   "cell_type": "code",
   "execution_count": 1,
   "metadata": {},
   "outputs": [],
   "source": [
    "from bs4 import BeautifulSoup\n",
    "import requests\n",
    "import pandas as pd\n",
    "import numpy as np"
   ]
  },
  {
   "cell_type": "markdown",
   "metadata": {},
   "source": [
    "Let´s import our data and save it into a pandas dataframe:"
   ]
  },
  {
   "cell_type": "code",
   "execution_count": 2,
   "metadata": {},
   "outputs": [
    {
     "data": {
      "text/html": [
       "<div>\n",
       "<style scoped>\n",
       "    .dataframe tbody tr th:only-of-type {\n",
       "        vertical-align: middle;\n",
       "    }\n",
       "\n",
       "    .dataframe tbody tr th {\n",
       "        vertical-align: top;\n",
       "    }\n",
       "\n",
       "    .dataframe thead th {\n",
       "        text-align: right;\n",
       "    }\n",
       "</style>\n",
       "<table border=\"1\" class=\"dataframe\">\n",
       "  <thead>\n",
       "    <tr style=\"text-align: right;\">\n",
       "      <th></th>\n",
       "      <th>Postal code</th>\n",
       "      <th>Borough</th>\n",
       "      <th>Neighborhood</th>\n",
       "      <th>Latitude</th>\n",
       "      <th>Longitude</th>\n",
       "    </tr>\n",
       "  </thead>\n",
       "  <tbody>\n",
       "    <tr>\n",
       "      <th>0</th>\n",
       "      <td>M2H</td>\n",
       "      <td>North York</td>\n",
       "      <td>Hillcrest Village</td>\n",
       "      <td>43.803762</td>\n",
       "      <td>-79.363452</td>\n",
       "    </tr>\n",
       "    <tr>\n",
       "      <th>1</th>\n",
       "      <td>M2J</td>\n",
       "      <td>North York</td>\n",
       "      <td>Fairview, Henry Farm, Oriole</td>\n",
       "      <td>43.778517</td>\n",
       "      <td>-79.346556</td>\n",
       "    </tr>\n",
       "    <tr>\n",
       "      <th>2</th>\n",
       "      <td>M2K</td>\n",
       "      <td>North York</td>\n",
       "      <td>Bayview Village</td>\n",
       "      <td>43.786947</td>\n",
       "      <td>-79.385975</td>\n",
       "    </tr>\n",
       "    <tr>\n",
       "      <th>3</th>\n",
       "      <td>M2L</td>\n",
       "      <td>North York</td>\n",
       "      <td>York Mills, Silver Hills</td>\n",
       "      <td>43.757490</td>\n",
       "      <td>-79.374714</td>\n",
       "    </tr>\n",
       "    <tr>\n",
       "      <th>4</th>\n",
       "      <td>M2M</td>\n",
       "      <td>North York</td>\n",
       "      <td>Willowdale, Newtonbrook</td>\n",
       "      <td>43.789053</td>\n",
       "      <td>-79.408493</td>\n",
       "    </tr>\n",
       "  </tbody>\n",
       "</table>\n",
       "</div>"
      ],
      "text/plain": [
       "  Postal code     Borough                  Neighborhood   Latitude  Longitude\n",
       "0         M2H  North York             Hillcrest Village  43.803762 -79.363452\n",
       "1         M2J  North York  Fairview, Henry Farm, Oriole  43.778517 -79.346556\n",
       "2         M2K  North York               Bayview Village  43.786947 -79.385975\n",
       "3         M2L  North York      York Mills, Silver Hills  43.757490 -79.374714\n",
       "4         M2M  North York       Willowdale, Newtonbrook  43.789053 -79.408493"
      ]
     },
     "execution_count": 2,
     "metadata": {},
     "output_type": "execute_result"
    }
   ],
   "source": [
    "import types\n",
    "import pandas as pd\n",
    "from botocore.client import Config\n",
    "import ibm_boto3\n",
    "\n",
    "def __iter__(self): return 0\n",
    "\n",
    "# @hidden_cell\n",
    "# The following code accesses a file in your IBM Cloud Object Storage. It includes your credentials.\n",
    "# You might want to remove those credentials before you share the notebook.\n",
    "client_369b14b46cb84bc595983859954f30c6 = ibm_boto3.client(service_name='s3',\n",
    "    ibm_api_key_id='gW6dMfP5P-quPLPYk5DBt1bnoGSGjWZUmN3e2A2YxBDh',\n",
    "    ibm_auth_endpoint=\"https://iam.ng.bluemix.net/oidc/token\",\n",
    "    config=Config(signature_version='oauth'),\n",
    "    endpoint_url='https://s3-api.us-geo.objectstorage.service.networklayer.com')\n",
    "\n",
    "body = client_369b14b46cb84bc595983859954f30c6.get_object(Bucket='datascience-donotdelete-pr-37hdo3tmpis3rg',Key='North_York.csv')['Body']\n",
    "# add missing __iter__ method, so pandas accepts body as file-like object\n",
    "if not hasattr(body, \"__iter__\"): body.__iter__ = types.MethodType( __iter__, body )\n",
    "\n",
    "df_data_1 = pd.read_csv(body)\n",
    "df_data_1.head()\n"
   ]
  },
  {
   "cell_type": "markdown",
   "metadata": {},
   "source": [
    "Now we are going to rename the dataframe to north_york, and we will use it untill the end of the Lab."
   ]
  },
  {
   "cell_type": "code",
   "execution_count": 3,
   "metadata": {},
   "outputs": [
    {
     "data": {
      "text/html": [
       "<div>\n",
       "<style scoped>\n",
       "    .dataframe tbody tr th:only-of-type {\n",
       "        vertical-align: middle;\n",
       "    }\n",
       "\n",
       "    .dataframe tbody tr th {\n",
       "        vertical-align: top;\n",
       "    }\n",
       "\n",
       "    .dataframe thead th {\n",
       "        text-align: right;\n",
       "    }\n",
       "</style>\n",
       "<table border=\"1\" class=\"dataframe\">\n",
       "  <thead>\n",
       "    <tr style=\"text-align: right;\">\n",
       "      <th></th>\n",
       "      <th>Postal code</th>\n",
       "      <th>Borough</th>\n",
       "      <th>Neighborhood</th>\n",
       "      <th>Latitude</th>\n",
       "      <th>Longitude</th>\n",
       "    </tr>\n",
       "  </thead>\n",
       "  <tbody>\n",
       "    <tr>\n",
       "      <th>0</th>\n",
       "      <td>M2H</td>\n",
       "      <td>North York</td>\n",
       "      <td>Hillcrest Village</td>\n",
       "      <td>43.803762</td>\n",
       "      <td>-79.363452</td>\n",
       "    </tr>\n",
       "    <tr>\n",
       "      <th>1</th>\n",
       "      <td>M2J</td>\n",
       "      <td>North York</td>\n",
       "      <td>Fairview, Henry Farm, Oriole</td>\n",
       "      <td>43.778517</td>\n",
       "      <td>-79.346556</td>\n",
       "    </tr>\n",
       "    <tr>\n",
       "      <th>2</th>\n",
       "      <td>M2K</td>\n",
       "      <td>North York</td>\n",
       "      <td>Bayview Village</td>\n",
       "      <td>43.786947</td>\n",
       "      <td>-79.385975</td>\n",
       "    </tr>\n",
       "    <tr>\n",
       "      <th>3</th>\n",
       "      <td>M2L</td>\n",
       "      <td>North York</td>\n",
       "      <td>York Mills, Silver Hills</td>\n",
       "      <td>43.757490</td>\n",
       "      <td>-79.374714</td>\n",
       "    </tr>\n",
       "    <tr>\n",
       "      <th>4</th>\n",
       "      <td>M2M</td>\n",
       "      <td>North York</td>\n",
       "      <td>Willowdale, Newtonbrook</td>\n",
       "      <td>43.789053</td>\n",
       "      <td>-79.408493</td>\n",
       "    </tr>\n",
       "  </tbody>\n",
       "</table>\n",
       "</div>"
      ],
      "text/plain": [
       "  Postal code     Borough                  Neighborhood   Latitude  Longitude\n",
       "0         M2H  North York             Hillcrest Village  43.803762 -79.363452\n",
       "1         M2J  North York  Fairview, Henry Farm, Oriole  43.778517 -79.346556\n",
       "2         M2K  North York               Bayview Village  43.786947 -79.385975\n",
       "3         M2L  North York      York Mills, Silver Hills  43.757490 -79.374714\n",
       "4         M2M  North York       Willowdale, Newtonbrook  43.789053 -79.408493"
      ]
     },
     "execution_count": 3,
     "metadata": {},
     "output_type": "execute_result"
    }
   ],
   "source": [
    "north_york = df_data_1\n",
    "north_york.head()"
   ]
  },
  {
   "cell_type": "markdown",
   "metadata": {},
   "source": [
    "Please notice that the dataframe is alredy pre processed, so we can easily start using it to accomplish the goal of the lab: finding the Neighborhood in the North York borough. So we will start building our URL to connect to the Foursquare API."
   ]
  },
  {
   "cell_type": "code",
   "execution_count": 4,
   "metadata": {},
   "outputs": [],
   "source": [
    "CLIENT_ID = 'AHLWBMBQMBIVJ0JUKDMAVWZ0DFAL4G5J0HANUBQE5CDJJF1N' # my Foursquare ID\n",
    "CLIENT_SECRET = 'ZHGFCRIP4OEF53Y4NLJK21PHLOESA5ZCFO0QTGCJ5OZBZQKI' # my Foursquare Secret\n",
    "VERSION = '20180604'\n",
    "LIMIT = 50\n",
    "search_query = 'Restaurant'\n",
    "radius = 1500"
   ]
  },
  {
   "cell_type": "code",
   "execution_count": 5,
   "metadata": {},
   "outputs": [],
   "source": [
    "l_latitude=north_york['Latitude']\n",
    "l_longitude=north_york['Longitude']"
   ]
  },
  {
   "cell_type": "code",
   "execution_count": 6,
   "metadata": {},
   "outputs": [],
   "source": [
    "from pandas.io.json import json_normalize\n",
    "numbers = []\n",
    "for i in range (0, 24):\n",
    "    url = 'https://api.foursquare.com/v2/venues/search?client_id={}&client_secret={}&ll={},{}&v={}&query={}&radius={}&limit={}'.format(CLIENT_ID, CLIENT_SECRET, l_latitude[i], l_longitude[i], VERSION, search_query, radius, LIMIT)\n",
    "    results = requests.get(url).json()\n",
    "    \n",
    "    \n",
    "    venues = results['response']['venues']\n",
    "    # tranform venues into a dataframe\n",
    "    dataframe = json_normalize(venues)\n",
    "    \n",
    "    \n",
    "    numbers.append(dataframe.shape[0])\n",
    "    ##results"
   ]
  },
  {
   "cell_type": "code",
   "execution_count": 7,
   "metadata": {},
   "outputs": [
    {
     "name": "stdout",
     "output_type": "stream",
     "text": [
      "[13, 12, 7, 8, 34, 29, 8, 7, 6, 9, 14, 6, 20, 8, 1, 7, 10, 8, 20, 15, 24, 11, 6, 3]\n"
     ]
    }
   ],
   "source": [
    "print(numbers)"
   ]
  },
  {
   "cell_type": "code",
   "execution_count": 8,
   "metadata": {},
   "outputs": [],
   "source": [
    "north_york['Number']=numbers"
   ]
  },
  {
   "cell_type": "code",
   "execution_count": 9,
   "metadata": {},
   "outputs": [
    {
     "data": {
      "text/html": [
       "<div>\n",
       "<style scoped>\n",
       "    .dataframe tbody tr th:only-of-type {\n",
       "        vertical-align: middle;\n",
       "    }\n",
       "\n",
       "    .dataframe tbody tr th {\n",
       "        vertical-align: top;\n",
       "    }\n",
       "\n",
       "    .dataframe thead th {\n",
       "        text-align: right;\n",
       "    }\n",
       "</style>\n",
       "<table border=\"1\" class=\"dataframe\">\n",
       "  <thead>\n",
       "    <tr style=\"text-align: right;\">\n",
       "      <th></th>\n",
       "      <th>Postal code</th>\n",
       "      <th>Borough</th>\n",
       "      <th>Neighborhood</th>\n",
       "      <th>Latitude</th>\n",
       "      <th>Longitude</th>\n",
       "      <th>Number</th>\n",
       "    </tr>\n",
       "  </thead>\n",
       "  <tbody>\n",
       "    <tr>\n",
       "      <th>0</th>\n",
       "      <td>M2H</td>\n",
       "      <td>North York</td>\n",
       "      <td>Hillcrest Village</td>\n",
       "      <td>43.803762</td>\n",
       "      <td>-79.363452</td>\n",
       "      <td>13</td>\n",
       "    </tr>\n",
       "    <tr>\n",
       "      <th>1</th>\n",
       "      <td>M2J</td>\n",
       "      <td>North York</td>\n",
       "      <td>Fairview, Henry Farm, Oriole</td>\n",
       "      <td>43.778517</td>\n",
       "      <td>-79.346556</td>\n",
       "      <td>12</td>\n",
       "    </tr>\n",
       "    <tr>\n",
       "      <th>2</th>\n",
       "      <td>M2K</td>\n",
       "      <td>North York</td>\n",
       "      <td>Bayview Village</td>\n",
       "      <td>43.786947</td>\n",
       "      <td>-79.385975</td>\n",
       "      <td>7</td>\n",
       "    </tr>\n",
       "    <tr>\n",
       "      <th>3</th>\n",
       "      <td>M2L</td>\n",
       "      <td>North York</td>\n",
       "      <td>York Mills, Silver Hills</td>\n",
       "      <td>43.757490</td>\n",
       "      <td>-79.374714</td>\n",
       "      <td>8</td>\n",
       "    </tr>\n",
       "    <tr>\n",
       "      <th>4</th>\n",
       "      <td>M2M</td>\n",
       "      <td>North York</td>\n",
       "      <td>Willowdale, Newtonbrook</td>\n",
       "      <td>43.789053</td>\n",
       "      <td>-79.408493</td>\n",
       "      <td>34</td>\n",
       "    </tr>\n",
       "  </tbody>\n",
       "</table>\n",
       "</div>"
      ],
      "text/plain": [
       "  Postal code     Borough                  Neighborhood   Latitude  Longitude  \\\n",
       "0         M2H  North York             Hillcrest Village  43.803762 -79.363452   \n",
       "1         M2J  North York  Fairview, Henry Farm, Oriole  43.778517 -79.346556   \n",
       "2         M2K  North York               Bayview Village  43.786947 -79.385975   \n",
       "3         M2L  North York      York Mills, Silver Hills  43.757490 -79.374714   \n",
       "4         M2M  North York       Willowdale, Newtonbrook  43.789053 -79.408493   \n",
       "\n",
       "   Number  \n",
       "0      13  \n",
       "1      12  \n",
       "2       7  \n",
       "3       8  \n",
       "4      34  "
      ]
     },
     "execution_count": 9,
     "metadata": {},
     "output_type": "execute_result"
    }
   ],
   "source": [
    "north_york.head()"
   ]
  },
  {
   "cell_type": "code",
   "execution_count": 10,
   "metadata": {},
   "outputs": [
    {
     "data": {
      "image/png": "[encoded data removed]",
      "text/plain": [
       "<Figure size 432x288 with 1 Axes>"
      ]
     },
     "metadata": {
      "needs_background": "light"
     },
     "output_type": "display_data"
    }
   ],
   "source": [
    "%matplotlib inline \n",
    "\n",
    "import matplotlib as mpl\n",
    "import matplotlib.pyplot as plt\n",
    "fig = plt.figure()\n",
    "ax = fig.add_axes([0,0,1,1])\n",
    "ax.bar(north_york['Postal code'],north_york['Number'])\n",
    "plt.xticks(rotation=90)\n",
    "plt.title('Number of restaurant per Area in North York')\n",
    "plt.ylabel('Number of Restaurants')\n",
    "plt.xlabel('Area\\'s Postal code')\n",
    "plt.show()"
   ]
  },
  {
   "cell_type": "markdown",
   "metadata": {},
   "source": [
    "Let's see the whole Data Frame:"
   ]
  },
  {
   "cell_type": "code",
   "execution_count": 11,
   "metadata": {},
   "outputs": [
    {
     "data": {
      "text/html": [
       "<div>\n",
       "<style scoped>\n",
       "    .dataframe tbody tr th:only-of-type {\n",
       "        vertical-align: middle;\n",
       "    }\n",
       "\n",
       "    .dataframe tbody tr th {\n",
       "        vertical-align: top;\n",
       "    }\n",
       "\n",
       "    .dataframe thead th {\n",
       "        text-align: right;\n",
       "    }\n",
       "</style>\n",
       "<table border=\"1\" class=\"dataframe\">\n",
       "  <thead>\n",
       "    <tr style=\"text-align: right;\">\n",
       "      <th></th>\n",
       "      <th>Postal code</th>\n",
       "      <th>Borough</th>\n",
       "      <th>Neighborhood</th>\n",
       "      <th>Latitude</th>\n",
       "      <th>Longitude</th>\n",
       "      <th>Number</th>\n",
       "    </tr>\n",
       "  </thead>\n",
       "  <tbody>\n",
       "    <tr>\n",
       "      <th>0</th>\n",
       "      <td>M2H</td>\n",
       "      <td>North York</td>\n",
       "      <td>Hillcrest Village</td>\n",
       "      <td>43.803762</td>\n",
       "      <td>-79.363452</td>\n",
       "      <td>13</td>\n",
       "    </tr>\n",
       "    <tr>\n",
       "      <th>1</th>\n",
       "      <td>M2J</td>\n",
       "      <td>North York</td>\n",
       "      <td>Fairview, Henry Farm, Oriole</td>\n",
       "      <td>43.778517</td>\n",
       "      <td>-79.346556</td>\n",
       "      <td>12</td>\n",
       "    </tr>\n",
       "    <tr>\n",
       "      <th>2</th>\n",
       "      <td>M2K</td>\n",
       "      <td>North York</td>\n",
       "      <td>Bayview Village</td>\n",
       "      <td>43.786947</td>\n",
       "      <td>-79.385975</td>\n",
       "      <td>7</td>\n",
       "    </tr>\n",
       "    <tr>\n",
       "      <th>3</th>\n",
       "      <td>M2L</td>\n",
       "      <td>North York</td>\n",
       "      <td>York Mills, Silver Hills</td>\n",
       "      <td>43.757490</td>\n",
       "      <td>-79.374714</td>\n",
       "      <td>8</td>\n",
       "    </tr>\n",
       "    <tr>\n",
       "      <th>4</th>\n",
       "      <td>M2M</td>\n",
       "      <td>North York</td>\n",
       "      <td>Willowdale, Newtonbrook</td>\n",
       "      <td>43.789053</td>\n",
       "      <td>-79.408493</td>\n",
       "      <td>34</td>\n",
       "    </tr>\n",
       "    <tr>\n",
       "      <th>5</th>\n",
       "      <td>M2N</td>\n",
       "      <td>North York</td>\n",
       "      <td>Willowdale</td>\n",
       "      <td>43.770120</td>\n",
       "      <td>-79.408493</td>\n",
       "      <td>29</td>\n",
       "    </tr>\n",
       "    <tr>\n",
       "      <th>6</th>\n",
       "      <td>M2P</td>\n",
       "      <td>North York</td>\n",
       "      <td>York Mills West</td>\n",
       "      <td>43.752758</td>\n",
       "      <td>-79.400049</td>\n",
       "      <td>8</td>\n",
       "    </tr>\n",
       "    <tr>\n",
       "      <th>7</th>\n",
       "      <td>M2R</td>\n",
       "      <td>North York</td>\n",
       "      <td>Willowdale</td>\n",
       "      <td>43.782736</td>\n",
       "      <td>-79.442259</td>\n",
       "      <td>7</td>\n",
       "    </tr>\n",
       "    <tr>\n",
       "      <th>8</th>\n",
       "      <td>M3A</td>\n",
       "      <td>North York</td>\n",
       "      <td>Parkwoods</td>\n",
       "      <td>43.753259</td>\n",
       "      <td>-79.329656</td>\n",
       "      <td>6</td>\n",
       "    </tr>\n",
       "    <tr>\n",
       "      <th>9</th>\n",
       "      <td>M3B</td>\n",
       "      <td>North York</td>\n",
       "      <td>Don Mills</td>\n",
       "      <td>43.745906</td>\n",
       "      <td>-79.352188</td>\n",
       "      <td>9</td>\n",
       "    </tr>\n",
       "    <tr>\n",
       "      <th>10</th>\n",
       "      <td>M3C</td>\n",
       "      <td>North York</td>\n",
       "      <td>Don Mills</td>\n",
       "      <td>43.725900</td>\n",
       "      <td>-79.340923</td>\n",
       "      <td>14</td>\n",
       "    </tr>\n",
       "    <tr>\n",
       "      <th>11</th>\n",
       "      <td>M3H</td>\n",
       "      <td>North York</td>\n",
       "      <td>Bathurst Manor, Wilson Heights, Downsview North</td>\n",
       "      <td>43.754328</td>\n",
       "      <td>-79.442259</td>\n",
       "      <td>6</td>\n",
       "    </tr>\n",
       "    <tr>\n",
       "      <th>12</th>\n",
       "      <td>M3J</td>\n",
       "      <td>North York</td>\n",
       "      <td>Northwood Park, York University</td>\n",
       "      <td>43.767980</td>\n",
       "      <td>-79.487262</td>\n",
       "      <td>20</td>\n",
       "    </tr>\n",
       "    <tr>\n",
       "      <th>13</th>\n",
       "      <td>M3K</td>\n",
       "      <td>North York</td>\n",
       "      <td>Downsview</td>\n",
       "      <td>43.737473</td>\n",
       "      <td>-79.464763</td>\n",
       "      <td>8</td>\n",
       "    </tr>\n",
       "    <tr>\n",
       "      <th>14</th>\n",
       "      <td>M3L</td>\n",
       "      <td>North York</td>\n",
       "      <td>Downsview</td>\n",
       "      <td>43.739015</td>\n",
       "      <td>-79.506944</td>\n",
       "      <td>1</td>\n",
       "    </tr>\n",
       "    <tr>\n",
       "      <th>15</th>\n",
       "      <td>M3M</td>\n",
       "      <td>North York</td>\n",
       "      <td>Downsview</td>\n",
       "      <td>43.728496</td>\n",
       "      <td>-79.495697</td>\n",
       "      <td>7</td>\n",
       "    </tr>\n",
       "    <tr>\n",
       "      <th>16</th>\n",
       "      <td>M3N</td>\n",
       "      <td>North York</td>\n",
       "      <td>Downsview</td>\n",
       "      <td>43.761631</td>\n",
       "      <td>-79.520999</td>\n",
       "      <td>10</td>\n",
       "    </tr>\n",
       "    <tr>\n",
       "      <th>17</th>\n",
       "      <td>M4A</td>\n",
       "      <td>North York</td>\n",
       "      <td>Victoria Village</td>\n",
       "      <td>43.725882</td>\n",
       "      <td>-79.315572</td>\n",
       "      <td>8</td>\n",
       "    </tr>\n",
       "    <tr>\n",
       "      <th>18</th>\n",
       "      <td>M5M</td>\n",
       "      <td>North York</td>\n",
       "      <td>Bedford Park, Lawrence Manor East</td>\n",
       "      <td>43.733283</td>\n",
       "      <td>-79.419750</td>\n",
       "      <td>20</td>\n",
       "    </tr>\n",
       "    <tr>\n",
       "      <th>19</th>\n",
       "      <td>M6A</td>\n",
       "      <td>North York</td>\n",
       "      <td>Lawrence Manor, Lawrence Heights</td>\n",
       "      <td>43.718518</td>\n",
       "      <td>-79.464763</td>\n",
       "      <td>15</td>\n",
       "    </tr>\n",
       "    <tr>\n",
       "      <th>20</th>\n",
       "      <td>M6B</td>\n",
       "      <td>North York</td>\n",
       "      <td>Glencairn</td>\n",
       "      <td>43.709577</td>\n",
       "      <td>-79.445073</td>\n",
       "      <td>24</td>\n",
       "    </tr>\n",
       "    <tr>\n",
       "      <th>21</th>\n",
       "      <td>M6L</td>\n",
       "      <td>North York</td>\n",
       "      <td>North Park, Maple Leaf Park, Upwood Park</td>\n",
       "      <td>43.713756</td>\n",
       "      <td>-79.490074</td>\n",
       "      <td>11</td>\n",
       "    </tr>\n",
       "    <tr>\n",
       "      <th>22</th>\n",
       "      <td>M9L</td>\n",
       "      <td>North York</td>\n",
       "      <td>Humber Summit</td>\n",
       "      <td>43.756303</td>\n",
       "      <td>-79.565963</td>\n",
       "      <td>6</td>\n",
       "    </tr>\n",
       "    <tr>\n",
       "      <th>23</th>\n",
       "      <td>M9M</td>\n",
       "      <td>North York</td>\n",
       "      <td>Humberlea, Emery</td>\n",
       "      <td>43.724766</td>\n",
       "      <td>-79.532242</td>\n",
       "      <td>3</td>\n",
       "    </tr>\n",
       "  </tbody>\n",
       "</table>\n",
       "</div>"
      ],
      "text/plain": [
       "   Postal code     Borough                                     Neighborhood  \\\n",
       "0          M2H  North York                                Hillcrest Village   \n",
       "1          M2J  North York                     Fairview, Henry Farm, Oriole   \n",
       "2          M2K  North York                                  Bayview Village   \n",
       "3          M2L  North York                         York Mills, Silver Hills   \n",
       "4          M2M  North York                          Willowdale, Newtonbrook   \n",
       "5          M2N  North York                                       Willowdale   \n",
       "6          M2P  North York                                  York Mills West   \n",
       "7          M2R  North York                                       Willowdale   \n",
       "8          M3A  North York                                        Parkwoods   \n",
       "9          M3B  North York                                        Don Mills   \n",
       "10         M3C  North York                                        Don Mills   \n",
       "11         M3H  North York  Bathurst Manor, Wilson Heights, Downsview North   \n",
       "12         M3J  North York                  Northwood Park, York University   \n",
       "13         M3K  North York                                        Downsview   \n",
       "14         M3L  North York                                        Downsview   \n",
       "15         M3M  North York                                        Downsview   \n",
       "16         M3N  North York                                        Downsview   \n",
       "17         M4A  North York                                 Victoria Village   \n",
       "18         M5M  North York                Bedford Park, Lawrence Manor East   \n",
       "19         M6A  North York                 Lawrence Manor, Lawrence Heights   \n",
       "20         M6B  North York                                        Glencairn   \n",
       "21         M6L  North York         North Park, Maple Leaf Park, Upwood Park   \n",
       "22         M9L  North York                                    Humber Summit   \n",
       "23         M9M  North York                                 Humberlea, Emery   \n",
       "\n",
       "     Latitude  Longitude  Number  \n",
       "0   43.803762 -79.363452      13  \n",
       "1   43.778517 -79.346556      12  \n",
       "2   43.786947 -79.385975       7  \n",
       "3   43.757490 -79.374714       8  \n",
       "4   43.789053 -79.408493      34  \n",
       "5   43.770120 -79.408493      29  \n",
       "6   43.752758 -79.400049       8  \n",
       "7   43.782736 -79.442259       7  \n",
       "8   43.753259 -79.329656       6  \n",
       "9   43.745906 -79.352188       9  \n",
       "10  43.725900 -79.340923      14  \n",
       "11  43.754328 -79.442259       6  \n",
       "12  43.767980 -79.487262      20  \n",
       "13  43.737473 -79.464763       8  \n",
       "14  43.739015 -79.506944       1  \n",
       "15  43.728496 -79.495697       7  \n",
       "16  43.761631 -79.520999      10  \n",
       "17  43.725882 -79.315572       8  \n",
       "18  43.733283 -79.419750      20  \n",
       "19  43.718518 -79.464763      15  \n",
       "20  43.709577 -79.445073      24  \n",
       "21  43.713756 -79.490074      11  \n",
       "22  43.756303 -79.565963       6  \n",
       "23  43.724766 -79.532242       3  "
      ]
     },
     "execution_count": 11,
     "metadata": {},
     "output_type": "execute_result"
    }
   ],
   "source": [
    "north_york.head(24)"
   ]
  },
  {
   "cell_type": "code",
   "execution_count": 12,
   "metadata": {},
   "outputs": [
    {
     "name": "stdout",
     "output_type": "stream",
     "text": [
      "Maximum number:  34\n",
      "Minimum number:  1\n"
     ]
    }
   ],
   "source": [
    "maxim=north_york['Number'].max()\n",
    "minim=north_york['Number'].min()\n",
    "print('Maximum number: ',maxim)\n",
    "print('Minimum number: ',minim)"
   ]
  },
  {
   "cell_type": "markdown",
   "metadata": {},
   "source": [
    "# Results"
   ]
  },
  {
   "cell_type": "markdown",
   "metadata": {},
   "source": [
    "So now we know the number of alredy existing restaurant on each area based on the postal code of the North York Borrough. And by watching the bar graph, we know that the area with the minimum number of restaurants is the one with the M3L postal code, wich is in the Downsview neighborhood with latitude: 43.739015 and longitude -79.506944 with only one alredy existing restaurant.\n",
    "\n",
    "Please notice that since we said at the introduction of this notebook, another interesting approachto find the best possible location to open a new restaurant could be finding the area with the biggest number of alredy existing restaurants, beacuause it can be considered as the most commercial area, so we did that too: we foud that there is an area with 34 existing restaurants, and is the one with the postal code M2M, with 2 different neighborhoods: Willowdale and Newtonbrook."
   ]
  },
  {
   "cell_type": "markdown",
   "metadata": {},
   "source": [
    "# Discussion"
   ]
  },
  {
   "cell_type": "markdown",
   "metadata": {},
   "source": [
    "One problem with this exercise was that the original data set we used was grouped by postal code, so in the case of a very big Neighborhood there are more than one postal codes for the same neighborhood.\n",
    "\n",
    "Other problem with this data set is that there are some postal codes for more than one neighborhood so it's not the most accurate way to find the best possible location."
   ]
  },
  {
   "cell_type": "markdown",
   "metadata": {},
   "source": [
    "# Conclusions"
   ]
  },
  {
   "cell_type": "markdown",
   "metadata": {},
   "source": [
    "We found two interesting locations to open a new restaurant, depending on if we want to open it in the area with the most or least ammount of alredy existing restaurant on it.\n",
    "\n",
    "If we want to have the least competitors in the area, we should open a new restaurant in the Downsview neighborhood, with only one opened restaurant.\n",
    "\n",
    "On the other hand, if we want to open it on the \"most commercial area\", we should open it on Willowdale or Newtonbrook, and we will have 34 competitors in there."
   ]
  },
  {
   "cell_type": "code",
   "execution_count": null,
   "metadata": {},
   "outputs": [],
   "source": []
  }
 ],
 "metadata": {
  "kernelspec": {
   "display_name": "Python 3.6",
   "language": "python",
   "name": "python3"
  },
  "language_info": {
   "codemirror_mode": {
    "name": "ipython",
    "version": 3
   },
   "file_extension": ".py",
   "mimetype": "text/x-python",
   "name": "python",
   "nbconvert_exporter": "python",
   "pygments_lexer": "ipython3",
   "version": "3.6.9"
  }
 },
 "nbformat": 4,
 "nbformat_minor": 1
}
